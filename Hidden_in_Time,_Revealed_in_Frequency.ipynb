{
  "nbformat": 4,
  "nbformat_minor": 0,
  "metadata": {
    "colab": {
      "provenance": []
    },
    "kernelspec": {
      "name": "python3",
      "display_name": "Python 3"
    },
    "language_info": {
      "name": "python"
    }
  },
  "cells": [
    {
      "cell_type": "markdown",
      "source": [
        "# Hidden in Time, Revealed in Frequency: Spectral Features and Multiresolution Analysis for Encrypted Internet Traffic Classification\n",
        "\n",
        "## Authors\n",
        "- Nathan Dillbary\n",
        "- Amit Dvir\n",
        "- Chen Hajaj\n",
        "- Ran Dubin\n",
        "- Roi Yozevitch\n",
        "\n",
        "## Summary\n",
        "This Jupyter Notebook is associated with the paper titled \"Hidden in Time, Revealed in Frequency: Spectral Features and Multiresolution Analysis for Encrypted Internet Traffic Classification,\" presented at the IEEE CCNC 2024 Conference. The research addresses the challenge of classifying encrypted internet traffic, introducing two novel methods: STFT-TC (Short-Time Fourier Transform-Based Traffic Classifier) and DWT-TC (Discrete Wavelet Transform-Based Traffic Classifier). These methods utilize time-frequency analysis techniques to provide improved accuracy and insight in encrypted traffic classification, demonstrating significant advancements over existing approaches.\n",
        "The notebook herein contains implementations related to the paper's content.\n",
        "\n",
        "\n",
        "\n",
        "---\n",
        "\n",
        "## License\n",
        "MIT License\n",
        "\n",
        "Copyright (c) 2024 Nathan Dillbary, Amit Dvir, Chen Hajaj, Ran Dubin, Roi Yozevitch\n",
        "\n",
        "Permission is hereby granted, free of charge, to any person obtaining a copy of this software and associated documentation files (the \"Software\"), to deal in the Software without restriction, including without limitation the rights to use, copy, modify, merge, publish, distribute, sublicense, and/or sell copies of the Software, and to permit persons to whom the Software is furnished to do so, subject to the following conditions:\n",
        "\n",
        "The above copyright notice and this permission notice shall be included in all copies or substantial portions of the Software.\n",
        "\n",
        "THE SOFTWARE IS PROVIDED \"AS IS\", WITHOUT WARRANTY OF ANY KIND, EXPRESS OR IMPLIED, INCLUDING BUT NOT LIMITED TO THE WARRANTIES OF MERCHANTABILITY, FITNESS FOR A PARTICULAR PURPOSE AND NONINFRINGEMENT. IN NO EVENT SHALL THE AUTHORS OR COPYRIGHT HOLDERS BE LIABLE FOR ANY CLAIM, DAMAGES OR OTHER LIABILITY, WHETHER IN AN ACTION OF CONTRACT, TORT OR OTHERWISE, ARISING FROM, OUT OF OR IN CONNECTION WITH THE SOFTWARE OR THE USE OR OTHER DEALINGS IN THE SOFTWARE."
      ],
      "metadata": {
        "id": "eF8NHAsh49QC"
      }
    },
    {
      "cell_type": "code",
      "source": [
        "import numpy as np\n",
        "import pandas as pd\n",
        "from typing import List, Optional\n",
        "import scipy.signal\n",
        "import librosa\n",
        "import pywt"
      ],
      "metadata": {
        "id": "7q9Ul9lA3PRD"
      },
      "execution_count": null,
      "outputs": []
    },
    {
      "cell_type": "code",
      "execution_count": null,
      "metadata": {
        "id": "Q92QJMgB2snF"
      },
      "outputs": [],
      "source": [
        "def extract_stft_features(data: List[int], features_to_extract: Optional[List[str]] = None) -> np.ndarray:\n",
        "    \"\"\"\n",
        "    This function performs Short-Time Fourier Transform (STFT) on the given time-series data and extracts a comprehensive\n",
        "    set of spectral and statistical features from the magnitude spectrogram.\n",
        "    STFT converts the time-series into a 2D time-frequency domain representation, allowing for the analysis of\n",
        "    frequency components' evolution over time.\n",
        "\n",
        "    Args:\n",
        "        data (List[int]): The input data, a time-series of integers, typically representing signals like audio or network traffic.\n",
        "        features_to_extract (Optional[List[str]]): A list of specific feature names to extract from the spectrogram.\n",
        "          If None or left unspecified, a comprehensive default set including mean, standard deviation, spectral centroid,\n",
        "          spectral bandwidth, spectral contrast, spectral flatness, spectral rolloff, chroma STFT, and MFCC is used.\n",
        "\n",
        "    Returns:\n",
        "        np.ndarray: A 1D numpy array of concatenated features, resulting in a single feature vector representing the\n",
        "        original input data's spectral characteristics.\n",
        "\n",
        "    Detailed Feature Descriptions:\n",
        "    - Mean & Standard Deviation: Provide insight into the average power and its variability across frequencies.\n",
        "    - Spectral Centroid & Bandwidth: Indicate the 'center of mass' of the power spectrum and the width of frequency components.\n",
        "    - Spectral Contrast: Reflects the level of contrast between the most and least intense frequencies.\n",
        "    - Spectral Flatness: Measures how noise-like a signal is, by comparing the geometric mean to the arithmetic mean of the power spectrum.\n",
        "    - Spectral Rolloff: Represents the frequency below which a specified percentage of the total spectral energy lies.\n",
        "    - Chroma STFT: Projects the spectrum onto 12 bins representing the 12 distinct semitones (or chroma) of the musical octave.\n",
        "    - MFCC: Mel-frequency cepstral coefficients, providing a representation of the power spectrum's shape.\n",
        "\n",
        "    Each feature captures a different characteristic of the signal's frequency content, making this function versatile for\n",
        "    various signal processing and machine learning tasks in time-frequency analysis domains.\n",
        "    \"\"\"\n",
        "        f, t, Zxx = scipy.signal.stft(data, fs=1000, window='hann', nperseg=256, noverlap=128)\n",
        "    mag_spectrogram = np.abs(Zxx)\n",
        "    if not features_to_extract:\n",
        "        features_to_extract = ('mean', 'std', 'spectral_centroid', 'spectral_bandwidth',\n",
        "                               'spectral_contrast', 'spectral_flatness','spectral_rolloff', 'chroma_stft', 'mfcc')\n",
        "    feature_map = {\n",
        "        'mean': lambda: np.mean(mag_spectrogram, axis=1),\n",
        "        'std': lambda: np.std(mag_spectrogram, axis=1),\n",
        "        'spectral_centroid': lambda: librosa.feature.spectral_centroid(S=mag_spectrogram)[0],\n",
        "        'spectral_bandwidth': lambda: librosa.feature.spectral_bandwidth(S=mag_spectrogram)[0],\n",
        "        'spectral_contrast': lambda: librosa.feature.spectral_contrast(S=mag_spectrogram)[0],\n",
        "        'spectral_flatness': lambda: librosa.feature.spectral_flatness(S=mag_spectrogram)[0],\n",
        "        'spectral_rolloff': lambda: librosa.feature.spectral_rolloff(S=mag_spectrogram, sr=1000)[0],\n",
        "        'chroma_stft': lambda: librosa.feature.chroma_stft(S=mag_spectrogram, sr=1000)[0],\n",
        "        'mfcc': lambda: librosa.feature.mfcc(S=mag_spectrogram, sr=1000)[0]\n",
        "    }\n",
        "    computed_features = [feature_map[feat]() for feat in features_to_extract if feat in feature_map]\n",
        "    feature_vec = np.concatenate(computed_features)\n",
        "    return feature_vec"
      ]
    },
    {
      "cell_type": "code",
      "source": [
        "def extract_wavelet_features(data: List[int], features_to_extract: Optional[List[str]] = None,\n",
        "                             wavelet: str = 'coif6', level: int = 4) -> np.ndarray:\n",
        "    \"\"\"\n",
        "    Extracts wavelet features from the given time-series data utilizing the Discrete Wavelet Transform (DWT) for multi-resolution analysis.\n",
        "    DWT is a powerful tool for signal processing, allowing decomposition of the signal into various frequency bands with localized\n",
        "    time information. This method is particularly adept for analyzing non-stationary signals found in real-world scenarios, such as\n",
        "    network traffic where frequency components vary over time.\n",
        "\n",
        "    Args:\n",
        "        data (List[int]): The input data, representing a time-series of integers.\n",
        "        features_to_extract (Optional[List[str]]): A list specifying which statistical features to compute from the wavelet coefficients.\n",
        "          If None, a default set including mean, standard deviation, median, max, min, range, energy, crest factor, and shape factor is extracted.\n",
        "        wavelet (str): Specifies the mother wavelet type to be used for the DWT. Default is 'coif6'.\n",
        "        level (int): Determines the level of wavelet decomposition. Higher levels result in finer frequency resolution.\n",
        "\n",
        "    Returns:\n",
        "        np.ndarray: A 1D numpy array containing the concatenated features, forming a comprehensive feature vector for the input data.\n",
        "\n",
        "    Detailed Feature Descriptions:\n",
        "    - Mean, Standard Deviation, Median, Max, Min, Range: Provide basic statistical measures of the wavelet coefficients at each level of decomposition.\n",
        "    - Energy: Sums up the squares of the coefficients, indicating dominant frequency components.\n",
        "    - Crest Factor: Ratio of the max value to the root mean square of the coefficients, highlighting the presence of spikes or transients.\n",
        "    - Shape Factor: Represents the signal's waveform shape by comparing the RMS value to the mean absolute value.\n",
        "\n",
        "    The resulting feature vector captures both the localized frequency and time characteristics of the original signal, offering\n",
        "    a nuanced understanding of its structure and behavior. This makes the function invaluable for tasks requiring detailed and\n",
        "    sensitive signal characterization, such as fault diagnosis, anomaly detection, or pattern recognition in time-series data.\n",
        "    \"\"\"\n",
        "        coeffs = pywt.wavedec(data, wavelet, level=level)\n",
        "    epsilon = 1e-10  # small constant to avoid division by zero\n",
        "\n",
        "    feature_map = {\n",
        "        'mean': lambda x: np.mean(x),\n",
        "        'std': lambda x: np.std(x),\n",
        "        'median': lambda x: np.median(x),\n",
        "        'max': lambda x: np.max(x),\n",
        "        'min': lambda x: np.min(x),\n",
        "        'range': lambda x: np.max(x) - np.min(x),\n",
        "        'energy': lambda x: np.sum(np.square(x)),\n",
        "        'crest_factor': lambda x: np.max(np.abs(x)) / (np.sqrt(np.mean(np.square(x))) + epsilon),\n",
        "        'shape_factor': lambda x: np.sqrt(np.mean(np.square(x))) / (np.mean(np.abs(x)) + epsilon),\n",
        "    }\n",
        "\n",
        "  # If no features are specified, use all features\n",
        "    if not features_to_extract:\n",
        "        features_to_extract = list(feature_map.keys())\n",
        "\n",
        "    # Compute the requested features\n",
        "    computed_features = []\n",
        "    for coeff in coeffs:\n",
        "        computed_features.extend([feature_map[feat](coeff) for feat in features_to_extract if feat in feature_map])\n",
        "\n",
        "    # Assemble the feature vector\n",
        "    feature_vec = np.array(computed_features)\n",
        "    return feature_vec"
      ],
      "metadata": {
        "id": "E1KTXvk63Anu"
      },
      "execution_count": null,
      "outputs": []
    },
    {
      "cell_type": "code",
      "source": [
        "def apply_feature_extraction(df, columns):\n",
        "    for col in columns:\n",
        "        if col in df.columns:\n",
        "            df[f'stft_{col}'] = df[col].apply(extract_stft_features).apply(list)\n",
        "            df[f'dwt_{col}'] = df[col].apply(extract_wavelet_features).apply(list)\n",
        "    return df"
      ],
      "metadata": {
        "id": "38fLJ7Du3WGg"
      },
      "execution_count": null,
      "outputs": []
    },
    {
      "cell_type": "code",
      "source": [
        "def apply_functions_for_server_direction(df, column, functions_with_args):\n",
        "    \"\"\"\n",
        "    Apply given functions with additional arguments to a DataFrame column for the server direction only.\n",
        "\n",
        "    :param df: DataFrame to modify.\n",
        "    :param column: The column on which functions will be applied.\n",
        "    :param functions_with_args: A list of tuples. Each tuple contains a function and its additional arguments.\n",
        "    :return: Modified DataFrame.\n",
        "    \"\"\"\n",
        "    for func, *args in functions_with_args:\n",
        "        func_name = func.__name__\n",
        "\n",
        "        df[f'{func_name}_server'] = df[column].apply(lambda x: func(x, n=args[0], direction=1))\n",
        "\n",
        "    return df"
      ],
      "metadata": {
        "id": "YVEtDt2J3n9z"
      },
      "execution_count": null,
      "outputs": []
    },
    {
      "cell_type": "code",
      "source": [
        "def apply_feature_extraction(df: pd.DataFrame, columns: List[str]) -> pd.DataFrame:\n",
        "    \"\"\"\n",
        "    Applies feature extraction functions to specified columns in the DataFrame. This function is designed to\n",
        "    iterate through a list of columns and, for each, apply Short-Time Fourier Transform (STFT) and Discrete Wavelet\n",
        "    Transform (DWT) feature extraction if the column exists in the DataFrame. The extracted features from each method\n",
        "    are added as new columns to the DataFrame, prefixed with 'stft_' and 'dwt_' respectively.\n",
        "\n",
        "    Args:\n",
        "        df (pd.DataFrame): The DataFrame to which the feature extraction methods will be applied.\n",
        "        columns (List[str]): A list of column names in the DataFrame for which the feature extraction will be applied.\n",
        "\n",
        "    Returns:\n",
        "        pd.DataFrame: The modified DataFrame with new columns for each of the specified columns' extracted features using STFT and DWT.\n",
        "\n",
        "    Each of the specified columns will be checked for existence in the DataFrame, and if present, two new columns\n",
        "    will be added corresponding to that column: one for the STFT features and one for the DWT features. The values\n",
        "    in these new columns are lists of features extracted from the original column's data.\n",
        "    \"\"\"\n",
        "    for col in columns:\n",
        "        if col in df.columns:\n",
        "            df[f'stft_{col}'] = df[col].apply(extract_stft_features).apply(list)\n",
        "            df[f'dwt_{col}'] = df[col].apply(extract_wavelet_features).apply(list)\n",
        "    return df"
      ],
      "metadata": {
        "id": "9n3tSzst36Ww"
      },
      "execution_count": null,
      "outputs": []
    }
  ]
}